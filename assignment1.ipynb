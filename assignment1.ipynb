{
 "cells": [
  {
   "cell_type": "code",
   "execution_count": 1,
   "metadata": {},
   "outputs": [
    {
     "name": "stdout",
     "output_type": "stream",
     "text": [
      "Twinkle, twinkle, little star,\n",
      "\tHow I wonder what you are!\n",
      "\t \tUp above the world so high,\n",
      "\t \tLike a diamond in the sky.\n",
      "Twinkle, twinkle, little star,\n",
      "\tHow I wonder what you are!\n"
     ]
    }
   ],
   "source": [
    "print(\"Twinkle, twinkle, little star,\")\n",
    "print(\"\\tHow I wonder what you are!\")\n",
    "print(\"\\t \\tUp above the world so high,\")\n",
    "print(\"\\t \\tLike a diamond in the sky.\")\n",
    "print(\"Twinkle, twinkle, little star,\")\n",
    "print(\"\\tHow I wonder what you are!\")"
   ]
  },
  {
   "cell_type": "code",
   "execution_count": 2,
   "metadata": {},
   "outputs": [
    {
     "name": "stdout",
     "output_type": "stream",
     "text": [
      "3.7.4 (default, Aug  9 2019, 18:34:13) [MSC v.1915 64 bit (AMD64)]\n"
     ]
    }
   ],
   "source": [
    "import platform\n",
    "print((platform.sys.version))"
   ]
  },
  {
   "cell_type": "code",
   "execution_count": 3,
   "metadata": {},
   "outputs": [
    {
     "name": "stdout",
     "output_type": "stream",
     "text": [
      "Date 27-11-2019 Time is 17:58:52\n"
     ]
    }
   ],
   "source": [
    "import datetime\n",
    "Current = datetime.datetime.now()\n",
    "print (Current.strftime(\"Date \" \"%d-%m-%Y \" \"Time is\" \" %H:%M:%S\"))"
   ]
  },
  {
   "cell_type": "code",
   "execution_count": 4,
   "metadata": {},
   "outputs": [
    {
     "name": "stdout",
     "output_type": "stream",
     "text": [
      "Enter Radius Value:10\n",
      "Area Of Circle:  314.2857142857143\n"
     ]
    }
   ],
   "source": [
    "radius = float(input(\"Enter Radius Value:\"))\n",
    "area = (22/7)*radius**2\n",
    "print(\"Area Of Circle: \", area)"
   ]
  },
  {
   "cell_type": "code",
   "execution_count": 5,
   "metadata": {},
   "outputs": [
    {
     "name": "stdout",
     "output_type": "stream",
     "text": [
      "Enter First Name:Sarosh\n",
      "enter Last Name:Syed\n",
      "Syed Sarosh\n"
     ]
    }
   ],
   "source": [
    "FirstName=input(\"Enter First Name:\")\n",
    "LastName=input(\"enter Last Name:\")\n",
    "print(LastName+\" \"+FirstName)"
   ]
  },
  {
   "cell_type": "code",
   "execution_count": 6,
   "metadata": {},
   "outputs": [
    {
     "name": "stdout",
     "output_type": "stream",
     "text": [
      "Enter First Number: 2\n",
      "Enter Second Number: 2\n",
      "Answer: 4\n"
     ]
    }
   ],
   "source": [
    "num1 = input(\"Enter First Number: \")\n",
    "num2 = input(\"Enter Second Number: \")\n",
    "num3 = int(num1) + int(num2)\n",
    "print(\"Answer:\", num3)"
   ]
  },
  {
   "cell_type": "code",
   "execution_count": null,
   "metadata": {},
   "outputs": [],
   "source": []
  }
 ],
 "metadata": {
  "kernelspec": {
   "display_name": "Python 3",
   "language": "python",
   "name": "python3"
  },
  "language_info": {
   "codemirror_mode": {
    "name": "ipython",
    "version": 3
   },
   "file_extension": ".py",
   "mimetype": "text/x-python",
   "name": "python",
   "nbconvert_exporter": "python",
   "pygments_lexer": "ipython3",
   "version": "3.7.4"
  }
 },
 "nbformat": 4,
 "nbformat_minor": 2
}
