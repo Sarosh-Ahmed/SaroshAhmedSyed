{
 "cells": [
  {
   "cell_type": "code",
   "execution_count": 2,
   "metadata": {},
   "outputs": [
    {
     "name": "stdout",
     "output_type": "stream",
     "text": [
      "Enter Math Marks: 60\n",
      "Enter Urdu Marks: 90\n",
      "Enter English Marks: 80\n",
      "Enter Chemistry Marks: 70\n",
      "Enter Physics Marks: 70\n",
      "74\n",
      "Grade: C\n"
     ]
    }
   ],
   "source": [
    "\n",
    "Math = int(input(\"Enter Math Marks: \"))\n",
    "Urdu = int(input(\"Enter Urdu Marks: \"))\n",
    "English = int(input(\"Enter English Marks: \"))\n",
    "Chemistry = int(input(\"Enter Chemistry Marks: \"))\n",
    "Physics = int(input(\"Enter Physics Marks: \"))\n",
    "sum = Math+Urdu+English+Chemistry+Physics\n",
    "avg = (sum//5)\n",
    "print(avg)\n",
    "if(avg>=90):\n",
    "    print(\"Grade: A\")\n",
    "elif(avg>=80):\n",
    "    print(\"Grade: B\")\n",
    "elif(avg>=70):\n",
    "    print(\"Grade: C\")\n",
    "elif(avg>=60):\n",
    "    print(\"Grade: D\")\n",
    "else:\n",
    "    print(\"Grade: F\")"
   ]
  },
  {
   "cell_type": "code",
   "execution_count": 3,
   "metadata": {},
   "outputs": [
    {
     "name": "stdout",
     "output_type": "stream",
     "text": [
      "Enter a number: 5\n",
      "this number is odd\n"
     ]
    }
   ],
   "source": [
    "num = int(input(\"Enter a number: \"))\n",
    "if (num % 2) == 0:\n",
    "   print(\"This number is even\")\n",
    "else:\n",
    "   print(\"this number is odd\")"
   ]
  },
  {
   "cell_type": "markdown",
   "metadata": {},
   "source": []
  },
  {
   "cell_type": "code",
   "execution_count": 4,
   "metadata": {},
   "outputs": [
    {
     "name": "stdout",
     "output_type": "stream",
     "text": [
      "List's Length =  4\n"
     ]
    }
   ],
   "source": [
    "list=('Sarosh', 'Ahmed', 21, 'Karachi')\n",
    "print (\"List's Length = \", len(list))"
   ]
  },
  {
   "cell_type": "code",
   "execution_count": 5,
   "metadata": {},
   "outputs": [
    {
     "name": "stdout",
     "output_type": "stream",
     "text": [
      "The Sum of List= 55\n"
     ]
    }
   ],
   "source": [
    "\n",
    "List = (1,2,3,4,5,6,7,8,9,10)\n",
    "sum=0\n",
    "\n",
    "for i in List:\n",
    "    sum=sum+i\n",
    "\n",
    "print(\"The Sum of List=\",sum)"
   ]
  },
  {
   "cell_type": "code",
   "execution_count": 6,
   "metadata": {},
   "outputs": [
    {
     "name": "stdout",
     "output_type": "stream",
     "text": [
      "How many numbers: 5\n",
      "Enter number 4\n",
      "Enter number 5\n",
      "Enter number 3\n",
      "Enter number 1\n",
      "Enter number 8\n",
      "Minimum element in the list is : 1\n"
     ]
    }
   ],
   "source": [
    "list = []\n",
    "num = int(input('How many numbers: '))\n",
    "for n in range(num):\n",
    "    numbers = int(input('Enter number '))\n",
    "    list.append(numbers)\n",
    "print(\"Minimum element in the list is :\", min(list))"
   ]
  },
  {
   "cell_type": "code",
   "execution_count": 26,
   "metadata": {},
   "outputs": [
    {
     "name": "stdout",
     "output_type": "stream",
     "text": [
      "1\n",
      "1\n",
      "2\n",
      "3\n",
      "5\n"
     ]
    }
   ],
   "source": [
    "list=[1, 1, 2, 3, 5, 8, 13, 21, 34, 55, 89]\n",
    "\n",
    "for item in list:\n",
    "    if item<=5:\n",
    "        print(item)\n",
    "\n"
   ]
  },
  {
   "cell_type": "code",
   "execution_count": null,
   "metadata": {},
   "outputs": [],
   "source": []
  }
 ],
 "metadata": {
  "kernelspec": {
   "display_name": "Python 3",
   "language": "python",
   "name": "python3"
  },
  "language_info": {
   "codemirror_mode": {
    "name": "ipython",
    "version": 3
   },
   "file_extension": ".py",
   "mimetype": "text/x-python",
   "name": "python",
   "nbconvert_exporter": "python",
   "pygments_lexer": "ipython3",
   "version": "3.7.4"
  }
 },
 "nbformat": 4,
 "nbformat_minor": 2
}
